{
 "cells": [
  {
   "cell_type": "code",
   "execution_count": 3,
   "id": "f9f1f2a7-324f-4f9e-8817-fed685a3fe4b",
   "metadata": {},
   "outputs": [],
   "source": [
    "import math\n",
    "import tensorflow as tf\n",
    "import numpy as np\n",
    "import matplotlib.pyplot as plt\n",
    "import random\n",
    "\n",
    "from pylab import figure, cm\n",
    "\n",
    "W  = 0.5\n",
    "c1 = 0.8\n",
    "c2 = 0.9 "
   ]
  },
  {
   "cell_type": "code",
   "execution_count": 47,
   "id": "023c2f46-c782-4ec9-b794-c39718e1e9a1",
   "metadata": {},
   "outputs": [],
   "source": [
    "def f(x,theta):\n",
    "    [s1,e1,i1,r1,d1] = x\n",
    "    [beta, sigma, gamma, mu] = theta\n",
    "    s2 = s1 - beta*i1*s1/N\n",
    "    e2 = e1 + beta*i1*s1/N - sigma*e1\n",
    "    i2 = i1 + sigma*e1 - gamma*i1 - mu*i1\n",
    "    r2 = r1 + gamma*i1\n",
    "    d2 = d1 + mu*i1\n",
    "    return [s2,e2,i2,r2,d2]\n",
    "\n",
    "def simulationFixedTheta(x0,theta,length):\n",
    "    xList = []\n",
    "    xList.append(x0)\n",
    "    x1 = x0\n",
    "    for i in range(length):\n",
    "        x2 = f(x1,theta)\n",
    "        xList.append(x2)\n",
    "        x1 = x2\n",
    "    return xList\n",
    "\n",
    "def generateParticlePosition(dim,bounds):\n",
    "    output = []\n",
    "    for i in range(dim):\n",
    "        lb = bounds[i][0]\n",
    "        ub = bounds[i][1]\n",
    "        mid = (lb+ub)/2\n",
    "        diff = (lb-ub)/2\n",
    "        output.append(((-1)**bool(random.getrandbits(1))) * random.random()*diff + mid)\n",
    "    return output\n",
    "\n",
    "class Particle():\n",
    "    def __init__(self,dim,bounds):\n",
    "        self.dim = dim\n",
    "        self.position = generateParticlePosition(dim,bounds)\n",
    "        self.velocity = np.array([0 for i in range(dim)])\n",
    "        self.pbest_position = self.position\n",
    "        self.pbest_value = float('inf')\n",
    "    def __str__(self):\n",
    "        return \"I am at \" + str(self.position) + \" my pbest is \" + str(self.pbest_position)\n",
    "    def move(self):\n",
    "        self.position = self.position + self.velocity\n",
    "    \n",
    "    \n",
    "    \n",
    "class Space():\n",
    "    def __init__(self,target,target_error,dim,bounds,n_particles):\n",
    "        self.target = target\n",
    "        self.target_error = target_error\n",
    "        self.n_particles = n_particles\n",
    "        self.particles = [Particle(dim,bounds) for i in range(n_particles)]\n",
    "        self.gbest_value = float('inf')\n",
    "        self.gbest_position = np.array([0 for i in range(dim)])\n",
    "        \n",
    "    def print_particles(self):\n",
    "        for particle in self.particles:\n",
    "            print(particle)\n",
    "            \n",
    "    def fitness(self, particle):\n",
    "        #COST FUNCTION!!!!!!!!!\n",
    "        return particle.position[0] ** 2 + particle.position[1] ** 2 + 1\n",
    "    \n",
    "    def set_pbest(self):\n",
    "    \n",
    "    def move_particles(self):\n",
    "        pass\n",
    "\n",
    "space = Space(0,0,2,[[0,1],[10,20]],20)"
   ]
  },
  {
   "cell_type": "code",
   "execution_count": 48,
   "id": "4c0470c1-b608-4da4-96a5-1d989864155d",
   "metadata": {},
   "outputs": [
    {
     "name": "stdout",
     "output_type": "stream",
     "text": [
      "I am at [0.9460242160400962, 16.697248430038755] my pbest is [0.9460242160400962, 16.697248430038755]\n",
      "I am at [0.4701043251199967, 14.76115519011029] my pbest is [0.4701043251199967, 14.76115519011029]\n",
      "I am at [0.8371101335101614, 12.353838955479487] my pbest is [0.8371101335101614, 12.353838955479487]\n",
      "I am at [0.37674815626138325, 19.08914716800819] my pbest is [0.37674815626138325, 19.08914716800819]\n",
      "I am at [0.2676288103140833, 13.087357544189906] my pbest is [0.2676288103140833, 13.087357544189906]\n",
      "I am at [0.09393311334758359, 19.300724348244543] my pbest is [0.09393311334758359, 19.300724348244543]\n",
      "I am at [0.3140071837821984, 15.736311331537223] my pbest is [0.3140071837821984, 15.736311331537223]\n",
      "I am at [0.8657990687988448, 13.171575960147743] my pbest is [0.8657990687988448, 13.171575960147743]\n",
      "I am at [0.11263791126140144, 10.259434200564264] my pbest is [0.11263791126140144, 10.259434200564264]\n",
      "I am at [0.9556595522361966, 11.696515045214177] my pbest is [0.9556595522361966, 11.696515045214177]\n",
      "I am at [0.008838083151565646, 10.833588696389118] my pbest is [0.008838083151565646, 10.833588696389118]\n",
      "I am at [0.2197852876401975, 19.38004481763872] my pbest is [0.2197852876401975, 19.38004481763872]\n",
      "I am at [0.5703301119384923, 11.805000184559308] my pbest is [0.5703301119384923, 11.805000184559308]\n",
      "I am at [0.5891457652701237, 14.422464029839134] my pbest is [0.5891457652701237, 14.422464029839134]\n",
      "I am at [0.3100130832997625, 12.365877687629604] my pbest is [0.3100130832997625, 12.365877687629604]\n",
      "I am at [0.9006704432764363, 16.376275640519204] my pbest is [0.9006704432764363, 16.376275640519204]\n",
      "I am at [0.913349436812182, 12.027625940538307] my pbest is [0.913349436812182, 12.027625940538307]\n",
      "I am at [0.18273542298255996, 14.623263788269217] my pbest is [0.18273542298255996, 14.623263788269217]\n",
      "I am at [0.6104564803703121, 16.555361920321253] my pbest is [0.6104564803703121, 16.555361920321253]\n",
      "I am at [0.6621417034387905, 19.44121538571917] my pbest is [0.6621417034387905, 19.44121538571917]\n"
     ]
    }
   ],
   "source": [
    "space.print_particles()"
   ]
  },
  {
   "cell_type": "code",
   "execution_count": null,
   "id": "408b65bc-4d11-4d58-a501-a5e77a2932a8",
   "metadata": {},
   "outputs": [],
   "source": []
  }
 ],
 "metadata": {
  "kernelspec": {
   "display_name": "Python 3 (ipykernel)",
   "language": "python",
   "name": "python3"
  },
  "language_info": {
   "codemirror_mode": {
    "name": "ipython",
    "version": 3
   },
   "file_extension": ".py",
   "mimetype": "text/x-python",
   "name": "python",
   "nbconvert_exporter": "python",
   "pygments_lexer": "ipython3",
   "version": "3.9.13"
  }
 },
 "nbformat": 4,
 "nbformat_minor": 5
}
